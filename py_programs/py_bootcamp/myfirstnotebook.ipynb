{
 "cells": [
  {
   "cell_type": "code",
   "execution_count": 1,
   "id": "14597c13",
   "metadata": {},
   "outputs": [
    {
     "name": "stdout",
     "output_type": "stream",
     "text": [
      "Hello My World\n"
     ]
    }
   ],
   "source": [
    "print('Hello My World')"
   ]
  },
  {
   "cell_type": "code",
   "execution_count": 2,
   "id": "41d593b6",
   "metadata": {},
   "outputs": [
    {
     "name": "stdout",
     "output_type": "stream",
     "text": [
      "Hello My New World\n"
     ]
    }
   ],
   "source": [
    "print('Hello My New World')"
   ]
  },
  {
   "cell_type": "code",
   "execution_count": 3,
   "id": "266aab77",
   "metadata": {},
   "outputs": [],
   "source": [
    "my_dog = \"Hi\""
   ]
  },
  {
   "cell_type": "code",
   "execution_count": 4,
   "id": "beefd35c",
   "metadata": {},
   "outputs": [
    {
     "name": "stdout",
     "output_type": "stream",
     "text": [
      "Hi\n"
     ]
    }
   ],
   "source": [
    "print(my_dog)"
   ]
  },
  {
   "cell_type": "code",
   "execution_count": 5,
   "id": "89e47375",
   "metadata": {},
   "outputs": [],
   "source": [
    "mystring = \"Hello This is reading normally\""
   ]
  },
  {
   "cell_type": "code",
   "execution_count": 6,
   "id": "3e89abff",
   "metadata": {},
   "outputs": [
    {
     "name": "stdout",
     "output_type": "stream",
     "text": [
      "Hello This is reading normally\n"
     ]
    }
   ],
   "source": [
    "print(mystring)"
   ]
  },
  {
   "cell_type": "code",
   "execution_count": 7,
   "id": "fdd82bc5",
   "metadata": {},
   "outputs": [],
   "source": [
    "reverse = mystring[::-1]"
   ]
  },
  {
   "cell_type": "code",
   "execution_count": 9,
   "id": "d71b7b61",
   "metadata": {},
   "outputs": [
    {
     "name": "stdout",
     "output_type": "stream",
     "text": [
      "yllamron gnidaer si sihT olleH\n"
     ]
    }
   ],
   "source": [
    "print(reverse)"
   ]
  },
  {
   "cell_type": "code",
   "execution_count": 10,
   "id": "99223230",
   "metadata": {},
   "outputs": [
    {
     "data": {
      "text/plain": [
       "'r'"
      ]
     },
     "execution_count": 10,
     "metadata": {},
     "output_type": "execute_result"
    }
   ],
   "source": [
    "mystring = 'Hello World'\n",
    "mystring [8]"
   ]
  },
  {
   "cell_type": "code",
   "execution_count": 11,
   "id": "bd69a984",
   "metadata": {},
   "outputs": [],
   "source": [
    "# Create a tuple\n",
    "t = (1,2,3)\n"
   ]
  },
  {
   "cell_type": "code",
   "execution_count": 12,
   "id": "7dc07bcc",
   "metadata": {},
   "outputs": [
    {
     "data": {
      "text/plain": [
       "3"
      ]
     },
     "execution_count": 12,
     "metadata": {},
     "output_type": "execute_result"
    }
   ],
   "source": [
    "# Check len just like a list\n",
    "len(t)"
   ]
  },
  {
   "cell_type": "code",
   "execution_count": null,
   "id": "7e60db07",
   "metadata": {},
   "outputs": [],
   "source": [
    "# Check len just like a list"
   ]
  }
 ],
 "metadata": {
  "kernelspec": {
   "display_name": "Python 3 (ipykernel)",
   "language": "python",
   "name": "python3"
  },
  "language_info": {
   "codemirror_mode": {
    "name": "ipython",
    "version": 3
   },
   "file_extension": ".py",
   "mimetype": "text/x-python",
   "name": "python",
   "nbconvert_exporter": "python",
   "pygments_lexer": "ipython3",
   "version": "3.9.13"
  }
 },
 "nbformat": 4,
 "nbformat_minor": 5
}
